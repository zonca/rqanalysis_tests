{
 "cells": [
  {
   "cell_type": "code",
   "execution_count": 1,
   "id": "88bb543d-157d-4f2a-ad34-66d3805a44ed",
   "metadata": {},
   "outputs": [
    {
     "name": "stderr",
     "output_type": "stream",
     "text": [
      "/cvmfs/cdms.opensciencegrid.org/releases/centos7/V04-08/lib/python3.7/site-packages/pandas/compat/_optional.py:138: UserWarning: Pandas requires version '2.7.0' or newer of 'numexpr' (version '2.6.9' currently installed).\n",
      "  warnings.warn(msg, UserWarning)\n"
     ]
    }
   ],
   "source": [
    "import pandas as pd\n",
    "import numpy as np\n",
    "import matplotlib.pyplot as plt\n",
    "%matplotlib notebook"
   ]
  },
  {
   "cell_type": "code",
   "execution_count": 2,
   "id": "59efc92b-797e-4220-99f1-3c426b5c5658",
   "metadata": {},
   "outputs": [
    {
     "data": {
      "text/plain": [
       "'1.3.5'"
      ]
     },
     "execution_count": 2,
     "metadata": {},
     "output_type": "execute_result"
    }
   ],
   "source": [
    "pd.__version__"
   ]
  },
  {
   "cell_type": "code",
   "execution_count": 3,
   "id": "02be3695-1f99-4de4-a30c-4346a61d35a5",
   "metadata": {},
   "outputs": [],
   "source": [
    "filename = \"/cvmfs/data/CDMS/RQanalysis_testing/share/index_test.h5\""
   ]
  },
  {
   "cell_type": "code",
   "execution_count": 4,
   "id": "3924c4a4-ff49-4010-a302-792e64dfc1ac",
   "metadata": {},
   "outputs": [],
   "source": [
    "df = pd.read_hdf(filename, \"df\")"
   ]
  },
  {
   "cell_type": "code",
   "execution_count": 5,
   "id": "c66ddeb5-a29d-40fc-b0c1-9c22739ecb98",
   "metadata": {},
   "outputs": [],
   "source": [
    "for col in [\"SeriesNumber\", \"EventNumber\"]:\n",
    "    df[col] = df[col].astype(np.int)"
   ]
  },
  {
   "cell_type": "code",
   "execution_count": 6,
   "id": "7050c722-3026-4f80-8401-6ded8692ba1e",
   "metadata": {},
   "outputs": [
    {
     "data": {
      "text/plain": [
       "Int64Index([     0,      1,      2,      3,      4,      5,      6,      7,\n",
       "                 8,      9,\n",
       "            ...\n",
       "            599990, 599991, 599992, 599993, 599994, 599995, 599996, 599997,\n",
       "            599998, 599999],\n",
       "           dtype='int64', length=600000)"
      ]
     },
     "execution_count": 6,
     "metadata": {},
     "output_type": "execute_result"
    }
   ],
   "source": [
    "df.index.unique()"
   ]
  },
  {
   "cell_type": "code",
   "execution_count": 7,
   "id": "c815a9f3-9dbd-4b71-8d17-9d780fefbc09",
   "metadata": {},
   "outputs": [
    {
     "data": {
      "text/html": [
       "<div>\n",
       "<style scoped>\n",
       "    .dataframe tbody tr th:only-of-type {\n",
       "        vertical-align: middle;\n",
       "    }\n",
       "\n",
       "    .dataframe tbody tr th {\n",
       "        vertical-align: top;\n",
       "    }\n",
       "\n",
       "    .dataframe thead th {\n",
       "        text-align: right;\n",
       "    }\n",
       "</style>\n",
       "<table border=\"1\" class=\"dataframe\">\n",
       "  <thead>\n",
       "    <tr style=\"text-align: right;\">\n",
       "      <th></th>\n",
       "      <th>SeriesNumber</th>\n",
       "      <th>EventNumber</th>\n",
       "      <th>qzpartOFi</th>\n",
       "      <th>DetNum</th>\n",
       "      <th>Index_WithDetNum</th>\n",
       "      <th>Index_NoDetNum</th>\n",
       "    </tr>\n",
       "  </thead>\n",
       "  <tbody>\n",
       "    <tr>\n",
       "      <th>0</th>\n",
       "      <td>11409112000</td>\n",
       "      <td>10001</td>\n",
       "      <td>1.455196</td>\n",
       "      <td>1</td>\n",
       "      <td>6057965471664640257</td>\n",
       "      <td>6057965471664640256</td>\n",
       "    </tr>\n",
       "    <tr>\n",
       "      <th>1</th>\n",
       "      <td>11409112000</td>\n",
       "      <td>10002</td>\n",
       "      <td>-0.099515</td>\n",
       "      <td>1</td>\n",
       "      <td>6057965471664640513</td>\n",
       "      <td>6057965471664640512</td>\n",
       "    </tr>\n",
       "    <tr>\n",
       "      <th>2</th>\n",
       "      <td>11409112000</td>\n",
       "      <td>10003</td>\n",
       "      <td>0.521154</td>\n",
       "      <td>1</td>\n",
       "      <td>6057965471664640769</td>\n",
       "      <td>6057965471664640768</td>\n",
       "    </tr>\n",
       "    <tr>\n",
       "      <th>3</th>\n",
       "      <td>11409112000</td>\n",
       "      <td>10004</td>\n",
       "      <td>11.963902</td>\n",
       "      <td>1</td>\n",
       "      <td>6057965471664641025</td>\n",
       "      <td>6057965471664641024</td>\n",
       "    </tr>\n",
       "    <tr>\n",
       "      <th>4</th>\n",
       "      <td>11409112000</td>\n",
       "      <td>10005</td>\n",
       "      <td>1.518247</td>\n",
       "      <td>1</td>\n",
       "      <td>6057965471664641281</td>\n",
       "      <td>6057965471664641280</td>\n",
       "    </tr>\n",
       "    <tr>\n",
       "      <th>...</th>\n",
       "      <td>...</td>\n",
       "      <td>...</td>\n",
       "      <td>...</td>\n",
       "      <td>...</td>\n",
       "      <td>...</td>\n",
       "      <td>...</td>\n",
       "    </tr>\n",
       "    <tr>\n",
       "      <th>599995</th>\n",
       "      <td>11409120236</td>\n",
       "      <td>3240184</td>\n",
       "      <td>NaN</td>\n",
       "      <td>15</td>\n",
       "      <td>6058067520914520079</td>\n",
       "      <td>6058067520914520064</td>\n",
       "    </tr>\n",
       "    <tr>\n",
       "      <th>599996</th>\n",
       "      <td>11409120236</td>\n",
       "      <td>3240185</td>\n",
       "      <td>NaN</td>\n",
       "      <td>15</td>\n",
       "      <td>6058067520914520335</td>\n",
       "      <td>6058067520914520320</td>\n",
       "    </tr>\n",
       "    <tr>\n",
       "      <th>599997</th>\n",
       "      <td>11409120236</td>\n",
       "      <td>3240186</td>\n",
       "      <td>-4.089163</td>\n",
       "      <td>15</td>\n",
       "      <td>6058067520914520591</td>\n",
       "      <td>6058067520914520576</td>\n",
       "    </tr>\n",
       "    <tr>\n",
       "      <th>599998</th>\n",
       "      <td>11409120236</td>\n",
       "      <td>3240187</td>\n",
       "      <td>1.999089</td>\n",
       "      <td>15</td>\n",
       "      <td>6058067520914520847</td>\n",
       "      <td>6058067520914520832</td>\n",
       "    </tr>\n",
       "    <tr>\n",
       "      <th>599999</th>\n",
       "      <td>11409120236</td>\n",
       "      <td>3240188</td>\n",
       "      <td>19.348373</td>\n",
       "      <td>15</td>\n",
       "      <td>6058067520914521103</td>\n",
       "      <td>6058067520914521088</td>\n",
       "    </tr>\n",
       "  </tbody>\n",
       "</table>\n",
       "<p>9000000 rows × 6 columns</p>\n",
       "</div>"
      ],
      "text/plain": [
       "        SeriesNumber  EventNumber  qzpartOFi  DetNum     Index_WithDetNum  \\\n",
       "0        11409112000        10001   1.455196       1  6057965471664640257   \n",
       "1        11409112000        10002  -0.099515       1  6057965471664640513   \n",
       "2        11409112000        10003   0.521154       1  6057965471664640769   \n",
       "3        11409112000        10004  11.963902       1  6057965471664641025   \n",
       "4        11409112000        10005   1.518247       1  6057965471664641281   \n",
       "...              ...          ...        ...     ...                  ...   \n",
       "599995   11409120236      3240184        NaN      15  6058067520914520079   \n",
       "599996   11409120236      3240185        NaN      15  6058067520914520335   \n",
       "599997   11409120236      3240186  -4.089163      15  6058067520914520591   \n",
       "599998   11409120236      3240187   1.999089      15  6058067520914520847   \n",
       "599999   11409120236      3240188  19.348373      15  6058067520914521103   \n",
       "\n",
       "             Index_NoDetNum  \n",
       "0       6057965471664640256  \n",
       "1       6057965471664640512  \n",
       "2       6057965471664640768  \n",
       "3       6057965471664641024  \n",
       "4       6057965471664641280  \n",
       "...                     ...  \n",
       "599995  6058067520914520064  \n",
       "599996  6058067520914520320  \n",
       "599997  6058067520914520576  \n",
       "599998  6058067520914520832  \n",
       "599999  6058067520914521088  \n",
       "\n",
       "[9000000 rows x 6 columns]"
      ]
     },
     "execution_count": 7,
     "metadata": {},
     "output_type": "execute_result"
    }
   ],
   "source": [
    "df"
   ]
  },
  {
   "cell_type": "code",
   "execution_count": 8,
   "id": "91a41bd8-1964-4ff7-a871-4dee034597d5",
   "metadata": {},
   "outputs": [],
   "source": [
    "series = df[\"SeriesNumber\"].unique()"
   ]
  },
  {
   "cell_type": "code",
   "execution_count": 9,
   "id": "c70e0041-a9ef-483a-9118-7e7ff2f2e3b0",
   "metadata": {},
   "outputs": [
    {
     "data": {
      "text/plain": [
       "array([11409112000, 11409112318, 11409120236])"
      ]
     },
     "execution_count": 9,
     "metadata": {},
     "output_type": "execute_result"
    }
   ],
   "source": [
    "series"
   ]
  },
  {
   "cell_type": "code",
   "execution_count": 10,
   "id": "1f0d3cb6-abae-4374-ae2f-490d09ed1838",
   "metadata": {},
   "outputs": [
    {
     "data": {
      "text/plain": [
       "15"
      ]
     },
     "execution_count": 10,
     "metadata": {},
     "output_type": "execute_result"
    }
   ],
   "source": [
    "(df.index == 0).sum()"
   ]
  },
  {
   "cell_type": "code",
   "execution_count": 11,
   "id": "6f773f3f-da29-46a1-b501-1f47cfe5375b",
   "metadata": {},
   "outputs": [
    {
     "data": {
      "text/plain": [
       "45"
      ]
     },
     "execution_count": 11,
     "metadata": {},
     "output_type": "execute_result"
    }
   ],
   "source": [
    "(df.EventNumber == 10001).sum()"
   ]
  },
  {
   "cell_type": "code",
   "execution_count": 12,
   "id": "73c2dfe7-0abf-41e4-a311-e5451dcd9287",
   "metadata": {},
   "outputs": [
    {
     "data": {
      "text/plain": [
       "45"
      ]
     },
     "execution_count": 12,
     "metadata": {},
     "output_type": "execute_result"
    }
   ],
   "source": [
    "(df.EventNumber == 3240186).sum()"
   ]
  },
  {
   "cell_type": "code",
   "execution_count": 13,
   "id": "1691fbf2-02c3-48b6-9789-ecd9e9215fc4",
   "metadata": {},
   "outputs": [
    {
     "data": {
      "text/plain": [
       "221345"
      ]
     },
     "execution_count": 13,
     "metadata": {},
     "output_type": "execute_result"
    }
   ],
   "source": [
    "len(df.EventNumber.unique())"
   ]
  },
  {
   "cell_type": "code",
   "execution_count": 14,
   "id": "18ca3dbc-dc63-4905-ad7d-0e0843aca02a",
   "metadata": {},
   "outputs": [
    {
     "data": {
      "text/html": [
       "<div>\n",
       "<style scoped>\n",
       "    .dataframe tbody tr th:only-of-type {\n",
       "        vertical-align: middle;\n",
       "    }\n",
       "\n",
       "    .dataframe tbody tr th {\n",
       "        vertical-align: top;\n",
       "    }\n",
       "\n",
       "    .dataframe thead th {\n",
       "        text-align: right;\n",
       "    }\n",
       "</style>\n",
       "<table border=\"1\" class=\"dataframe\">\n",
       "  <thead>\n",
       "    <tr style=\"text-align: right;\">\n",
       "      <th></th>\n",
       "      <th>SeriesNumber</th>\n",
       "      <th>EventNumber</th>\n",
       "      <th>qzpartOFi</th>\n",
       "      <th>DetNum</th>\n",
       "      <th>Index_WithDetNum</th>\n",
       "      <th>Index_NoDetNum</th>\n",
       "    </tr>\n",
       "  </thead>\n",
       "  <tbody>\n",
       "    <tr>\n",
       "      <th>0</th>\n",
       "      <td>11409112000</td>\n",
       "      <td>10001</td>\n",
       "      <td>1.455196</td>\n",
       "      <td>1</td>\n",
       "      <td>6057965471664640257</td>\n",
       "      <td>6057965471664640256</td>\n",
       "    </tr>\n",
       "    <tr>\n",
       "      <th>0</th>\n",
       "      <td>11409112000</td>\n",
       "      <td>10001</td>\n",
       "      <td>-0.495189</td>\n",
       "      <td>2</td>\n",
       "      <td>6057965471664640258</td>\n",
       "      <td>6057965471664640256</td>\n",
       "    </tr>\n",
       "    <tr>\n",
       "      <th>0</th>\n",
       "      <td>11409112000</td>\n",
       "      <td>10001</td>\n",
       "      <td>-0.676046</td>\n",
       "      <td>3</td>\n",
       "      <td>6057965471664640259</td>\n",
       "      <td>6057965471664640256</td>\n",
       "    </tr>\n",
       "    <tr>\n",
       "      <th>0</th>\n",
       "      <td>11409112000</td>\n",
       "      <td>10001</td>\n",
       "      <td>-3.678922</td>\n",
       "      <td>4</td>\n",
       "      <td>6057965471664640260</td>\n",
       "      <td>6057965471664640256</td>\n",
       "    </tr>\n",
       "    <tr>\n",
       "      <th>0</th>\n",
       "      <td>11409112000</td>\n",
       "      <td>10001</td>\n",
       "      <td>-0.305698</td>\n",
       "      <td>5</td>\n",
       "      <td>6057965471664640261</td>\n",
       "      <td>6057965471664640256</td>\n",
       "    </tr>\n",
       "    <tr>\n",
       "      <th>0</th>\n",
       "      <td>11409112000</td>\n",
       "      <td>10001</td>\n",
       "      <td>-0.041508</td>\n",
       "      <td>6</td>\n",
       "      <td>6057965471664640262</td>\n",
       "      <td>6057965471664640256</td>\n",
       "    </tr>\n",
       "    <tr>\n",
       "      <th>0</th>\n",
       "      <td>11409112000</td>\n",
       "      <td>10001</td>\n",
       "      <td>-0.849444</td>\n",
       "      <td>7</td>\n",
       "      <td>6057965471664640263</td>\n",
       "      <td>6057965471664640256</td>\n",
       "    </tr>\n",
       "    <tr>\n",
       "      <th>0</th>\n",
       "      <td>11409112000</td>\n",
       "      <td>10001</td>\n",
       "      <td>1.103298</td>\n",
       "      <td>8</td>\n",
       "      <td>6057965471664640264</td>\n",
       "      <td>6057965471664640256</td>\n",
       "    </tr>\n",
       "    <tr>\n",
       "      <th>0</th>\n",
       "      <td>11409112000</td>\n",
       "      <td>10001</td>\n",
       "      <td>-3.602202</td>\n",
       "      <td>9</td>\n",
       "      <td>6057965471664640265</td>\n",
       "      <td>6057965471664640256</td>\n",
       "    </tr>\n",
       "    <tr>\n",
       "      <th>0</th>\n",
       "      <td>11409112000</td>\n",
       "      <td>10001</td>\n",
       "      <td>-1.092787</td>\n",
       "      <td>10</td>\n",
       "      <td>6057965471664640266</td>\n",
       "      <td>6057965471664640256</td>\n",
       "    </tr>\n",
       "    <tr>\n",
       "      <th>0</th>\n",
       "      <td>11409112000</td>\n",
       "      <td>10001</td>\n",
       "      <td>0.573590</td>\n",
       "      <td>11</td>\n",
       "      <td>6057965471664640267</td>\n",
       "      <td>6057965471664640256</td>\n",
       "    </tr>\n",
       "    <tr>\n",
       "      <th>0</th>\n",
       "      <td>11409112000</td>\n",
       "      <td>10001</td>\n",
       "      <td>1.875457</td>\n",
       "      <td>12</td>\n",
       "      <td>6057965471664640268</td>\n",
       "      <td>6057965471664640256</td>\n",
       "    </tr>\n",
       "    <tr>\n",
       "      <th>0</th>\n",
       "      <td>11409112000</td>\n",
       "      <td>10001</td>\n",
       "      <td>-0.289278</td>\n",
       "      <td>13</td>\n",
       "      <td>6057965471664640269</td>\n",
       "      <td>6057965471664640256</td>\n",
       "    </tr>\n",
       "    <tr>\n",
       "      <th>0</th>\n",
       "      <td>11409112000</td>\n",
       "      <td>10001</td>\n",
       "      <td>-0.291230</td>\n",
       "      <td>14</td>\n",
       "      <td>6057965471664640270</td>\n",
       "      <td>6057965471664640256</td>\n",
       "    </tr>\n",
       "    <tr>\n",
       "      <th>0</th>\n",
       "      <td>11409112000</td>\n",
       "      <td>10001</td>\n",
       "      <td>2.106571</td>\n",
       "      <td>15</td>\n",
       "      <td>6057965471664640271</td>\n",
       "      <td>6057965471664640256</td>\n",
       "    </tr>\n",
       "    <tr>\n",
       "      <th>218786</th>\n",
       "      <td>11409112318</td>\n",
       "      <td>10001</td>\n",
       "      <td>0.721170</td>\n",
       "      <td>1</td>\n",
       "      <td>6058016495876116737</td>\n",
       "      <td>6058016495876116736</td>\n",
       "    </tr>\n",
       "    <tr>\n",
       "      <th>218786</th>\n",
       "      <td>11409112318</td>\n",
       "      <td>10001</td>\n",
       "      <td>-0.301683</td>\n",
       "      <td>2</td>\n",
       "      <td>6058016495876116738</td>\n",
       "      <td>6058016495876116736</td>\n",
       "    </tr>\n",
       "    <tr>\n",
       "      <th>218786</th>\n",
       "      <td>11409112318</td>\n",
       "      <td>10001</td>\n",
       "      <td>83.188925</td>\n",
       "      <td>3</td>\n",
       "      <td>6058016495876116739</td>\n",
       "      <td>6058016495876116736</td>\n",
       "    </tr>\n",
       "    <tr>\n",
       "      <th>218786</th>\n",
       "      <td>11409112318</td>\n",
       "      <td>10001</td>\n",
       "      <td>-1.484254</td>\n",
       "      <td>4</td>\n",
       "      <td>6058016495876116740</td>\n",
       "      <td>6058016495876116736</td>\n",
       "    </tr>\n",
       "    <tr>\n",
       "      <th>218786</th>\n",
       "      <td>11409112318</td>\n",
       "      <td>10001</td>\n",
       "      <td>-7.501553</td>\n",
       "      <td>5</td>\n",
       "      <td>6058016495876116741</td>\n",
       "      <td>6058016495876116736</td>\n",
       "    </tr>\n",
       "    <tr>\n",
       "      <th>218786</th>\n",
       "      <td>11409112318</td>\n",
       "      <td>10001</td>\n",
       "      <td>-1.088664</td>\n",
       "      <td>6</td>\n",
       "      <td>6058016495876116742</td>\n",
       "      <td>6058016495876116736</td>\n",
       "    </tr>\n",
       "    <tr>\n",
       "      <th>218786</th>\n",
       "      <td>11409112318</td>\n",
       "      <td>10001</td>\n",
       "      <td>-0.708509</td>\n",
       "      <td>7</td>\n",
       "      <td>6058016495876116743</td>\n",
       "      <td>6058016495876116736</td>\n",
       "    </tr>\n",
       "    <tr>\n",
       "      <th>218786</th>\n",
       "      <td>11409112318</td>\n",
       "      <td>10001</td>\n",
       "      <td>0.864727</td>\n",
       "      <td>8</td>\n",
       "      <td>6058016495876116744</td>\n",
       "      <td>6058016495876116736</td>\n",
       "    </tr>\n",
       "    <tr>\n",
       "      <th>218786</th>\n",
       "      <td>11409112318</td>\n",
       "      <td>10001</td>\n",
       "      <td>-0.220769</td>\n",
       "      <td>9</td>\n",
       "      <td>6058016495876116745</td>\n",
       "      <td>6058016495876116736</td>\n",
       "    </tr>\n",
       "    <tr>\n",
       "      <th>218786</th>\n",
       "      <td>11409112318</td>\n",
       "      <td>10001</td>\n",
       "      <td>-1.256738</td>\n",
       "      <td>10</td>\n",
       "      <td>6058016495876116746</td>\n",
       "      <td>6058016495876116736</td>\n",
       "    </tr>\n",
       "    <tr>\n",
       "      <th>218786</th>\n",
       "      <td>11409112318</td>\n",
       "      <td>10001</td>\n",
       "      <td>-6.304981</td>\n",
       "      <td>11</td>\n",
       "      <td>6058016495876116747</td>\n",
       "      <td>6058016495876116736</td>\n",
       "    </tr>\n",
       "    <tr>\n",
       "      <th>218786</th>\n",
       "      <td>11409112318</td>\n",
       "      <td>10001</td>\n",
       "      <td>-6.199179</td>\n",
       "      <td>12</td>\n",
       "      <td>6058016495876116748</td>\n",
       "      <td>6058016495876116736</td>\n",
       "    </tr>\n",
       "    <tr>\n",
       "      <th>218786</th>\n",
       "      <td>11409112318</td>\n",
       "      <td>10001</td>\n",
       "      <td>-2.683908</td>\n",
       "      <td>13</td>\n",
       "      <td>6058016495876116749</td>\n",
       "      <td>6058016495876116736</td>\n",
       "    </tr>\n",
       "    <tr>\n",
       "      <th>218786</th>\n",
       "      <td>11409112318</td>\n",
       "      <td>10001</td>\n",
       "      <td>24.546402</td>\n",
       "      <td>14</td>\n",
       "      <td>6058016495876116750</td>\n",
       "      <td>6058016495876116736</td>\n",
       "    </tr>\n",
       "    <tr>\n",
       "      <th>218786</th>\n",
       "      <td>11409112318</td>\n",
       "      <td>10001</td>\n",
       "      <td>-0.338878</td>\n",
       "      <td>15</td>\n",
       "      <td>6058016495876116751</td>\n",
       "      <td>6058016495876116736</td>\n",
       "    </tr>\n",
       "    <tr>\n",
       "      <th>438884</th>\n",
       "      <td>11409120236</td>\n",
       "      <td>10001</td>\n",
       "      <td>0.427265</td>\n",
       "      <td>1</td>\n",
       "      <td>6058067520087593217</td>\n",
       "      <td>6058067520087593216</td>\n",
       "    </tr>\n",
       "    <tr>\n",
       "      <th>438884</th>\n",
       "      <td>11409120236</td>\n",
       "      <td>10001</td>\n",
       "      <td>-3.110559</td>\n",
       "      <td>2</td>\n",
       "      <td>6058067520087593218</td>\n",
       "      <td>6058067520087593216</td>\n",
       "    </tr>\n",
       "    <tr>\n",
       "      <th>438884</th>\n",
       "      <td>11409120236</td>\n",
       "      <td>10001</td>\n",
       "      <td>-1.164276</td>\n",
       "      <td>3</td>\n",
       "      <td>6058067520087593219</td>\n",
       "      <td>6058067520087593216</td>\n",
       "    </tr>\n",
       "    <tr>\n",
       "      <th>438884</th>\n",
       "      <td>11409120236</td>\n",
       "      <td>10001</td>\n",
       "      <td>-0.653729</td>\n",
       "      <td>4</td>\n",
       "      <td>6058067520087593220</td>\n",
       "      <td>6058067520087593216</td>\n",
       "    </tr>\n",
       "    <tr>\n",
       "      <th>438884</th>\n",
       "      <td>11409120236</td>\n",
       "      <td>10001</td>\n",
       "      <td>0.155031</td>\n",
       "      <td>5</td>\n",
       "      <td>6058067520087593221</td>\n",
       "      <td>6058067520087593216</td>\n",
       "    </tr>\n",
       "    <tr>\n",
       "      <th>438884</th>\n",
       "      <td>11409120236</td>\n",
       "      <td>10001</td>\n",
       "      <td>-0.072097</td>\n",
       "      <td>6</td>\n",
       "      <td>6058067520087593222</td>\n",
       "      <td>6058067520087593216</td>\n",
       "    </tr>\n",
       "    <tr>\n",
       "      <th>438884</th>\n",
       "      <td>11409120236</td>\n",
       "      <td>10001</td>\n",
       "      <td>-1.994444</td>\n",
       "      <td>7</td>\n",
       "      <td>6058067520087593223</td>\n",
       "      <td>6058067520087593216</td>\n",
       "    </tr>\n",
       "    <tr>\n",
       "      <th>438884</th>\n",
       "      <td>11409120236</td>\n",
       "      <td>10001</td>\n",
       "      <td>0.879760</td>\n",
       "      <td>8</td>\n",
       "      <td>6058067520087593224</td>\n",
       "      <td>6058067520087593216</td>\n",
       "    </tr>\n",
       "    <tr>\n",
       "      <th>438884</th>\n",
       "      <td>11409120236</td>\n",
       "      <td>10001</td>\n",
       "      <td>15.832216</td>\n",
       "      <td>9</td>\n",
       "      <td>6058067520087593225</td>\n",
       "      <td>6058067520087593216</td>\n",
       "    </tr>\n",
       "    <tr>\n",
       "      <th>438884</th>\n",
       "      <td>11409120236</td>\n",
       "      <td>10001</td>\n",
       "      <td>-0.742496</td>\n",
       "      <td>10</td>\n",
       "      <td>6058067520087593226</td>\n",
       "      <td>6058067520087593216</td>\n",
       "    </tr>\n",
       "    <tr>\n",
       "      <th>438884</th>\n",
       "      <td>11409120236</td>\n",
       "      <td>10001</td>\n",
       "      <td>-0.501138</td>\n",
       "      <td>11</td>\n",
       "      <td>6058067520087593227</td>\n",
       "      <td>6058067520087593216</td>\n",
       "    </tr>\n",
       "    <tr>\n",
       "      <th>438884</th>\n",
       "      <td>11409120236</td>\n",
       "      <td>10001</td>\n",
       "      <td>-3.521476</td>\n",
       "      <td>12</td>\n",
       "      <td>6058067520087593228</td>\n",
       "      <td>6058067520087593216</td>\n",
       "    </tr>\n",
       "    <tr>\n",
       "      <th>438884</th>\n",
       "      <td>11409120236</td>\n",
       "      <td>10001</td>\n",
       "      <td>-1.843469</td>\n",
       "      <td>13</td>\n",
       "      <td>6058067520087593229</td>\n",
       "      <td>6058067520087593216</td>\n",
       "    </tr>\n",
       "    <tr>\n",
       "      <th>438884</th>\n",
       "      <td>11409120236</td>\n",
       "      <td>10001</td>\n",
       "      <td>-4.468785</td>\n",
       "      <td>14</td>\n",
       "      <td>6058067520087593230</td>\n",
       "      <td>6058067520087593216</td>\n",
       "    </tr>\n",
       "    <tr>\n",
       "      <th>438884</th>\n",
       "      <td>11409120236</td>\n",
       "      <td>10001</td>\n",
       "      <td>-2.053420</td>\n",
       "      <td>15</td>\n",
       "      <td>6058067520087593231</td>\n",
       "      <td>6058067520087593216</td>\n",
       "    </tr>\n",
       "  </tbody>\n",
       "</table>\n",
       "</div>"
      ],
      "text/plain": [
       "        SeriesNumber  EventNumber  qzpartOFi  DetNum     Index_WithDetNum  \\\n",
       "0        11409112000        10001   1.455196       1  6057965471664640257   \n",
       "0        11409112000        10001  -0.495189       2  6057965471664640258   \n",
       "0        11409112000        10001  -0.676046       3  6057965471664640259   \n",
       "0        11409112000        10001  -3.678922       4  6057965471664640260   \n",
       "0        11409112000        10001  -0.305698       5  6057965471664640261   \n",
       "0        11409112000        10001  -0.041508       6  6057965471664640262   \n",
       "0        11409112000        10001  -0.849444       7  6057965471664640263   \n",
       "0        11409112000        10001   1.103298       8  6057965471664640264   \n",
       "0        11409112000        10001  -3.602202       9  6057965471664640265   \n",
       "0        11409112000        10001  -1.092787      10  6057965471664640266   \n",
       "0        11409112000        10001   0.573590      11  6057965471664640267   \n",
       "0        11409112000        10001   1.875457      12  6057965471664640268   \n",
       "0        11409112000        10001  -0.289278      13  6057965471664640269   \n",
       "0        11409112000        10001  -0.291230      14  6057965471664640270   \n",
       "0        11409112000        10001   2.106571      15  6057965471664640271   \n",
       "218786   11409112318        10001   0.721170       1  6058016495876116737   \n",
       "218786   11409112318        10001  -0.301683       2  6058016495876116738   \n",
       "218786   11409112318        10001  83.188925       3  6058016495876116739   \n",
       "218786   11409112318        10001  -1.484254       4  6058016495876116740   \n",
       "218786   11409112318        10001  -7.501553       5  6058016495876116741   \n",
       "218786   11409112318        10001  -1.088664       6  6058016495876116742   \n",
       "218786   11409112318        10001  -0.708509       7  6058016495876116743   \n",
       "218786   11409112318        10001   0.864727       8  6058016495876116744   \n",
       "218786   11409112318        10001  -0.220769       9  6058016495876116745   \n",
       "218786   11409112318        10001  -1.256738      10  6058016495876116746   \n",
       "218786   11409112318        10001  -6.304981      11  6058016495876116747   \n",
       "218786   11409112318        10001  -6.199179      12  6058016495876116748   \n",
       "218786   11409112318        10001  -2.683908      13  6058016495876116749   \n",
       "218786   11409112318        10001  24.546402      14  6058016495876116750   \n",
       "218786   11409112318        10001  -0.338878      15  6058016495876116751   \n",
       "438884   11409120236        10001   0.427265       1  6058067520087593217   \n",
       "438884   11409120236        10001  -3.110559       2  6058067520087593218   \n",
       "438884   11409120236        10001  -1.164276       3  6058067520087593219   \n",
       "438884   11409120236        10001  -0.653729       4  6058067520087593220   \n",
       "438884   11409120236        10001   0.155031       5  6058067520087593221   \n",
       "438884   11409120236        10001  -0.072097       6  6058067520087593222   \n",
       "438884   11409120236        10001  -1.994444       7  6058067520087593223   \n",
       "438884   11409120236        10001   0.879760       8  6058067520087593224   \n",
       "438884   11409120236        10001  15.832216       9  6058067520087593225   \n",
       "438884   11409120236        10001  -0.742496      10  6058067520087593226   \n",
       "438884   11409120236        10001  -0.501138      11  6058067520087593227   \n",
       "438884   11409120236        10001  -3.521476      12  6058067520087593228   \n",
       "438884   11409120236        10001  -1.843469      13  6058067520087593229   \n",
       "438884   11409120236        10001  -4.468785      14  6058067520087593230   \n",
       "438884   11409120236        10001  -2.053420      15  6058067520087593231   \n",
       "\n",
       "             Index_NoDetNum  \n",
       "0       6057965471664640256  \n",
       "0       6057965471664640256  \n",
       "0       6057965471664640256  \n",
       "0       6057965471664640256  \n",
       "0       6057965471664640256  \n",
       "0       6057965471664640256  \n",
       "0       6057965471664640256  \n",
       "0       6057965471664640256  \n",
       "0       6057965471664640256  \n",
       "0       6057965471664640256  \n",
       "0       6057965471664640256  \n",
       "0       6057965471664640256  \n",
       "0       6057965471664640256  \n",
       "0       6057965471664640256  \n",
       "0       6057965471664640256  \n",
       "218786  6058016495876116736  \n",
       "218786  6058016495876116736  \n",
       "218786  6058016495876116736  \n",
       "218786  6058016495876116736  \n",
       "218786  6058016495876116736  \n",
       "218786  6058016495876116736  \n",
       "218786  6058016495876116736  \n",
       "218786  6058016495876116736  \n",
       "218786  6058016495876116736  \n",
       "218786  6058016495876116736  \n",
       "218786  6058016495876116736  \n",
       "218786  6058016495876116736  \n",
       "218786  6058016495876116736  \n",
       "218786  6058016495876116736  \n",
       "218786  6058016495876116736  \n",
       "438884  6058067520087593216  \n",
       "438884  6058067520087593216  \n",
       "438884  6058067520087593216  \n",
       "438884  6058067520087593216  \n",
       "438884  6058067520087593216  \n",
       "438884  6058067520087593216  \n",
       "438884  6058067520087593216  \n",
       "438884  6058067520087593216  \n",
       "438884  6058067520087593216  \n",
       "438884  6058067520087593216  \n",
       "438884  6058067520087593216  \n",
       "438884  6058067520087593216  \n",
       "438884  6058067520087593216  \n",
       "438884  6058067520087593216  \n",
       "438884  6058067520087593216  "
      ]
     },
     "execution_count": 14,
     "metadata": {},
     "output_type": "execute_result"
    }
   ],
   "source": [
    "df[df.EventNumber==10001]"
   ]
  },
  {
   "cell_type": "code",
   "execution_count": 15,
   "id": "fab37ae0-9245-4720-81c3-df985d3373ab",
   "metadata": {},
   "outputs": [],
   "source": [
    "df_index_no_detnum = df.set_index(\"Index_NoDetNum\")"
   ]
  },
  {
   "cell_type": "code",
   "execution_count": 16,
   "id": "13bc5555-7f67-4aff-8912-690a0ca1932c",
   "metadata": {},
   "outputs": [],
   "source": [
    "df_index_detnum = df.set_index(\"Index_WithDetNum\")"
   ]
  },
  {
   "cell_type": "code",
   "execution_count": 17,
   "id": "cd5cdfd6-13c2-4ad1-85f0-fb6c2b674e1b",
   "metadata": {},
   "outputs": [],
   "source": [
    "df_multiindex = df.set_index([\"SeriesNumber\", \"EventNumber\", \"DetNum\"])"
   ]
  },
  {
   "cell_type": "code",
   "execution_count": 18,
   "id": "94ed61e7-d627-421c-b46a-868b80e724fc",
   "metadata": {},
   "outputs": [],
   "source": [
    "df_integer_index = df"
   ]
  },
  {
   "cell_type": "code",
   "execution_count": 19,
   "id": "e8f3d700-9721-49f5-8783-798d5fad4199",
   "metadata": {},
   "outputs": [],
   "source": [
    "level_length = list(map(len, df_multiindex.index.levels))"
   ]
  },
  {
   "cell_type": "code",
   "execution_count": 20,
   "id": "66d37567-738b-40d2-86a7-8fb3565f7a80",
   "metadata": {},
   "outputs": [
    {
     "data": {
      "text/plain": [
       "[3, 221345, 15]"
      ]
     },
     "execution_count": 20,
     "metadata": {},
     "output_type": "execute_result"
    }
   ],
   "source": [
    "level_length"
   ]
  },
  {
   "cell_type": "code",
   "execution_count": 21,
   "id": "cee1943f-2280-42c6-bef4-eddc54aa1bea",
   "metadata": {},
   "outputs": [
    {
     "data": {
      "text/plain": [
       "9960525"
      ]
     },
     "execution_count": 21,
     "metadata": {},
     "output_type": "execute_result"
    }
   ],
   "source": [
    "np.product(level_length)"
   ]
  },
  {
   "cell_type": "code",
   "execution_count": 22,
   "id": "7fd5ddfe-8f1b-4cdf-be69-19def6921295",
   "metadata": {},
   "outputs": [
    {
     "data": {
      "text/plain": [
       "9000000"
      ]
     },
     "execution_count": 22,
     "metadata": {},
     "output_type": "execute_result"
    }
   ],
   "source": [
    "len(df)"
   ]
  },
  {
   "cell_type": "markdown",
   "id": "32a84f48-9d87-4804-a0e7-62e904fcf9a3",
   "metadata": {},
   "source": [
    "# Sorted by channel\n",
    "\n",
    "First all detector 1 samples for all events, then detector 2 for all events.\n",
    "In this case both indices are not monotonic, they are piecewise sorted."
   ]
  },
  {
   "cell_type": "markdown",
   "id": "ed817d30-e8b1-4edb-b250-6df18cc92f35",
   "metadata": {},
   "source": [
    "## Performance on cache join\n",
    "\n",
    "Pandas dataframes 2 methods, to join:\n",
    "\n",
    "* `join` is a simpler version for joining on index\n",
    "* `merge` is more flexible and can join on columns"
   ]
  },
  {
   "cell_type": "code",
   "execution_count": 23,
   "id": "ac9aa7a3-8281-4815-adb4-ce63fa6747f2",
   "metadata": {},
   "outputs": [],
   "source": [
    "cache = df_integer_index.sample(frac=.8)"
   ]
  },
  {
   "cell_type": "code",
   "execution_count": 24,
   "id": "a9c3a2b5-bedb-4db2-b3b9-e8cc301fab18",
   "metadata": {},
   "outputs": [],
   "source": [
    "df_index_detnum_cache = df_index_detnum.sample(frac=.8)"
   ]
  },
  {
   "cell_type": "code",
   "execution_count": 25,
   "id": "b1b3f54f-5a47-42d8-8d2f-6f8a6df4640e",
   "metadata": {},
   "outputs": [
    {
     "name": "stdout",
     "output_type": "stream",
     "text": [
      "1.52 s ± 13.4 ms per loop (mean ± std. dev. of 7 runs, 1 loop each)\n"
     ]
    }
   ],
   "source": [
    "%timeit df_index_detnum.join(df_index_detnum_cache, rsuffix=\"cached\")"
   ]
  },
  {
   "cell_type": "code",
   "execution_count": 26,
   "id": "63e050f6-a9ff-4c75-a60e-7b72072baaec",
   "metadata": {},
   "outputs": [
    {
     "name": "stdout",
     "output_type": "stream",
     "text": [
      "1.52 s ± 6.71 ms per loop (mean ± std. dev. of 7 runs, 1 loop each)\n"
     ]
    }
   ],
   "source": [
    "%timeit df_index_detnum.merge(df_index_detnum_cache, right_index=True, left_index=True, how=\"left\", suffixes=[None, \"cached\"])"
   ]
  },
  {
   "cell_type": "code",
   "execution_count": 27,
   "id": "b8d7a998-e4d0-4668-bcd9-2cc5f5f4439a",
   "metadata": {},
   "outputs": [],
   "source": [
    "df_multiindex_cache = df_multiindex.sample(frac=.8)"
   ]
  },
  {
   "cell_type": "code",
   "execution_count": 28,
   "id": "44d44fd1-2ea8-4559-b02a-58a7c68effde",
   "metadata": {},
   "outputs": [
    {
     "name": "stdout",
     "output_type": "stream",
     "text": [
      "8.82 s ± 34.7 ms per loop (mean ± std. dev. of 7 runs, 1 loop each)\n"
     ]
    }
   ],
   "source": [
    "%timeit df_multiindex.join(df_multiindex_cache, rsuffix=\"cached\")"
   ]
  },
  {
   "cell_type": "markdown",
   "id": "3cdc627b-077e-4613-91c8-e006dda5164c",
   "metadata": {},
   "source": [
    "We benchmark joining with the \"time-only\" index both using the original dataframe and the dataframe with \"Index_NoDetNum\" as index"
   ]
  },
  {
   "cell_type": "code",
   "execution_count": 29,
   "id": "02ca6b4a-7e43-4185-8da4-c7c2dd0893ea",
   "metadata": {},
   "outputs": [],
   "source": [
    "df_cache = df.sample(frac=.8)"
   ]
  },
  {
   "cell_type": "code",
   "execution_count": 30,
   "id": "440bf5c9-4314-4ae1-add5-6e2fdfc1d8f8",
   "metadata": {},
   "outputs": [
    {
     "name": "stdout",
     "output_type": "stream",
     "text": [
      "4.64 s ± 36.6 ms per loop (mean ± std. dev. of 7 runs, 1 loop each)\n"
     ]
    }
   ],
   "source": [
    "%timeit df.merge(df_cache, on=[\"Index_NoDetNum\", \"DetNum\"], how=\"left\", suffixes=[None, \"cached\"])"
   ]
  },
  {
   "cell_type": "code",
   "execution_count": 31,
   "id": "4d0e243f-8c43-4e9a-9cfc-aecb9eb78347",
   "metadata": {},
   "outputs": [],
   "source": [
    "df_index_no_detnum_cache = df_index_no_detnum.sample(frac=.8)"
   ]
  },
  {
   "cell_type": "code",
   "execution_count": 32,
   "id": "ff86dd73-2b51-456a-afd5-2266f9674e76",
   "metadata": {},
   "outputs": [
    {
     "name": "stdout",
     "output_type": "stream",
     "text": [
      "4.74 s ± 93.3 ms per loop (mean ± std. dev. of 7 runs, 1 loop each)\n"
     ]
    }
   ],
   "source": [
    "%timeit df_index_no_detnum.merge(df_index_no_detnum_cache, on=[\"Index_NoDetNum\", \"DetNum\"], how=\"left\", suffixes=[None, \"cached\"])"
   ]
  },
  {
   "cell_type": "markdown",
   "id": "61acaeea-ef9e-4013-b35e-7b22a4cf9bab",
   "metadata": {},
   "source": [
    "# Investigate sorting\n",
    "\n",
    "The index of `df_index_detnum` is not sorted, because it is partially ordered by channel"
   ]
  },
  {
   "cell_type": "code",
   "execution_count": 33,
   "id": "815fdd7e-e427-44cb-b81d-c32161bbeefd",
   "metadata": {},
   "outputs": [
    {
     "data": {
      "text/plain": [
       "False"
      ]
     },
     "execution_count": 33,
     "metadata": {},
     "output_type": "execute_result"
    }
   ],
   "source": [
    "df_index_detnum.index.is_monotonic"
   ]
  },
  {
   "cell_type": "code",
   "execution_count": 34,
   "id": "72519fcf-a5f7-462c-b4c7-ee6f23c5d943",
   "metadata": {},
   "outputs": [
    {
     "data": {
      "text/plain": [
       "True"
      ]
     },
     "execution_count": 34,
     "metadata": {},
     "output_type": "execute_result"
    }
   ],
   "source": [
    "df_index_detnum.index.is_unique"
   ]
  },
  {
   "cell_type": "code",
   "execution_count": 35,
   "id": "85eef2ea-0b26-4e97-91b8-c5d97afaecd5",
   "metadata": {},
   "outputs": [],
   "source": [
    "df_index_detnum_sorted = df_index_detnum.sort_index()"
   ]
  },
  {
   "cell_type": "code",
   "execution_count": 36,
   "id": "f935bbc1-7e1d-4710-9797-24d1048f5d57",
   "metadata": {},
   "outputs": [],
   "source": [
    "df_index_detnum_sorted_cache = df_index_detnum_sorted.sample(frac=.8)"
   ]
  },
  {
   "cell_type": "code",
   "execution_count": 37,
   "id": "8525bb36-7a0c-49ac-8369-746a85a6da4c",
   "metadata": {},
   "outputs": [
    {
     "data": {
      "text/plain": [
       "True"
      ]
     },
     "execution_count": 37,
     "metadata": {},
     "output_type": "execute_result"
    }
   ],
   "source": [
    "df_index_detnum_sorted.index.is_monotonic"
   ]
  },
  {
   "cell_type": "code",
   "execution_count": 38,
   "id": "c3c31d8e-68e3-4160-9e73-764071c828fa",
   "metadata": {},
   "outputs": [
    {
     "name": "stdout",
     "output_type": "stream",
     "text": [
      "1.49 s ± 35 ms per loop (mean ± std. dev. of 7 runs, 1 loop each)\n"
     ]
    }
   ],
   "source": [
    "%timeit df_index_detnum_sorted.join(df_index_detnum_sorted_cache, rsuffix=\"cached\")"
   ]
  },
  {
   "cell_type": "markdown",
   "id": "f4b87788-5968-4773-92bf-0f7c73ff1d98",
   "metadata": {},
   "source": [
    "Suprisingly, sorting has only minor performance benefits"
   ]
  },
  {
   "cell_type": "markdown",
   "id": "55a364a3-e452-4e43-bef6-578b92c17890",
   "metadata": {},
   "source": [
    "# Investigate pivoting channels\n",
    "\n",
    "The natural way of storing data with a time coordinate and several channels is to have the time coordinate be the index and having 1 column per channel.\n",
    "This makes very efficient to access 1 column at a time (especially if using a columnar data storage).\n",
    "It also saves memory by not repeating the time coordinate again and again for all channels."
   ]
  },
  {
   "cell_type": "code",
   "execution_count": 39,
   "id": "0460adbd-09c4-4ffa-9765-70c219910091",
   "metadata": {},
   "outputs": [],
   "source": [
    "df_index_no_detnum_pivoted = df_index_no_detnum.pivot(columns=\"DetNum\")"
   ]
  },
  {
   "cell_type": "code",
   "execution_count": 40,
   "id": "356dd30e-4233-4e9e-bf66-a200bc9424e8",
   "metadata": {},
   "outputs": [
    {
     "name": "stdout",
     "output_type": "stream",
     "text": [
      "<class 'pandas.core.frame.DataFrame'>\n",
      "Int64Index: 9000000 entries, 6057965471664640256 to 6058067520914521088\n",
      "Data columns (total 5 columns):\n",
      " #   Column            Dtype  \n",
      "---  ------            -----  \n",
      " 0   SeriesNumber      int64  \n",
      " 1   EventNumber       int64  \n",
      " 2   qzpartOFi         float64\n",
      " 3   DetNum            int64  \n",
      " 4   Index_WithDetNum  int64  \n",
      "dtypes: float64(1), int64(4)\n",
      "memory usage: 412.0 MB\n"
     ]
    }
   ],
   "source": [
    "df_index_no_detnum.info()"
   ]
  },
  {
   "cell_type": "code",
   "execution_count": 41,
   "id": "6cdffef2-21c6-4a64-9038-ece7012a477f",
   "metadata": {},
   "outputs": [
    {
     "name": "stdout",
     "output_type": "stream",
     "text": [
      "<class 'pandas.core.frame.DataFrame'>\n",
      "Int64Index: 600000 entries, 6057965471664640256 to 6058067520914521088\n",
      "Data columns (total 60 columns):\n",
      " #   Column                  Non-Null Count   Dtype  \n",
      "---  ------                  --------------   -----  \n",
      " 0   (SeriesNumber, 1)       600000 non-null  int64  \n",
      " 1   (SeriesNumber, 2)       600000 non-null  int64  \n",
      " 2   (SeriesNumber, 3)       600000 non-null  int64  \n",
      " 3   (SeriesNumber, 4)       600000 non-null  int64  \n",
      " 4   (SeriesNumber, 5)       600000 non-null  int64  \n",
      " 5   (SeriesNumber, 6)       600000 non-null  int64  \n",
      " 6   (SeriesNumber, 7)       600000 non-null  int64  \n",
      " 7   (SeriesNumber, 8)       600000 non-null  int64  \n",
      " 8   (SeriesNumber, 9)       600000 non-null  int64  \n",
      " 9   (SeriesNumber, 10)      600000 non-null  int64  \n",
      " 10  (SeriesNumber, 11)      600000 non-null  int64  \n",
      " 11  (SeriesNumber, 12)      600000 non-null  int64  \n",
      " 12  (SeriesNumber, 13)      600000 non-null  int64  \n",
      " 13  (SeriesNumber, 14)      600000 non-null  int64  \n",
      " 14  (SeriesNumber, 15)      600000 non-null  int64  \n",
      " 15  (EventNumber, 1)        600000 non-null  int64  \n",
      " 16  (EventNumber, 2)        600000 non-null  int64  \n",
      " 17  (EventNumber, 3)        600000 non-null  int64  \n",
      " 18  (EventNumber, 4)        600000 non-null  int64  \n",
      " 19  (EventNumber, 5)        600000 non-null  int64  \n",
      " 20  (EventNumber, 6)        600000 non-null  int64  \n",
      " 21  (EventNumber, 7)        600000 non-null  int64  \n",
      " 22  (EventNumber, 8)        600000 non-null  int64  \n",
      " 23  (EventNumber, 9)        600000 non-null  int64  \n",
      " 24  (EventNumber, 10)       600000 non-null  int64  \n",
      " 25  (EventNumber, 11)       600000 non-null  int64  \n",
      " 26  (EventNumber, 12)       600000 non-null  int64  \n",
      " 27  (EventNumber, 13)       600000 non-null  int64  \n",
      " 28  (EventNumber, 14)       600000 non-null  int64  \n",
      " 29  (EventNumber, 15)       600000 non-null  int64  \n",
      " 30  (qzpartOFi, 1)          137292 non-null  float64\n",
      " 31  (qzpartOFi, 2)          137292 non-null  float64\n",
      " 32  (qzpartOFi, 3)          137292 non-null  float64\n",
      " 33  (qzpartOFi, 4)          140452 non-null  float64\n",
      " 34  (qzpartOFi, 5)          140452 non-null  float64\n",
      " 35  (qzpartOFi, 6)          140452 non-null  float64\n",
      " 36  (qzpartOFi, 7)          185890 non-null  float64\n",
      " 37  (qzpartOFi, 8)          185890 non-null  float64\n",
      " 38  (qzpartOFi, 9)          185890 non-null  float64\n",
      " 39  (qzpartOFi, 10)         265663 non-null  float64\n",
      " 40  (qzpartOFi, 11)         265663 non-null  float64\n",
      " 41  (qzpartOFi, 12)         265663 non-null  float64\n",
      " 42  (qzpartOFi, 13)         303142 non-null  float64\n",
      " 43  (qzpartOFi, 14)         303142 non-null  float64\n",
      " 44  (qzpartOFi, 15)         303142 non-null  float64\n",
      " 45  (Index_WithDetNum, 1)   600000 non-null  int64  \n",
      " 46  (Index_WithDetNum, 2)   600000 non-null  int64  \n",
      " 47  (Index_WithDetNum, 3)   600000 non-null  int64  \n",
      " 48  (Index_WithDetNum, 4)   600000 non-null  int64  \n",
      " 49  (Index_WithDetNum, 5)   600000 non-null  int64  \n",
      " 50  (Index_WithDetNum, 6)   600000 non-null  int64  \n",
      " 51  (Index_WithDetNum, 7)   600000 non-null  int64  \n",
      " 52  (Index_WithDetNum, 8)   600000 non-null  int64  \n",
      " 53  (Index_WithDetNum, 9)   600000 non-null  int64  \n",
      " 54  (Index_WithDetNum, 10)  600000 non-null  int64  \n",
      " 55  (Index_WithDetNum, 11)  600000 non-null  int64  \n",
      " 56  (Index_WithDetNum, 12)  600000 non-null  int64  \n",
      " 57  (Index_WithDetNum, 13)  600000 non-null  int64  \n",
      " 58  (Index_WithDetNum, 14)  600000 non-null  int64  \n",
      " 59  (Index_WithDetNum, 15)  600000 non-null  int64  \n",
      "dtypes: float64(15), int64(45)\n",
      "memory usage: 279.2 MB\n"
     ]
    }
   ],
   "source": [
    "df_index_no_detnum_pivoted.info()"
   ]
  },
  {
   "cell_type": "markdown",
   "id": "eb99a7ae-1bf2-4a94-8d88-b3bec3749040",
   "metadata": {},
   "source": [
    "equivalent operation for multiindex is `unstack`, by default unstacks the last level of the index"
   ]
  },
  {
   "cell_type": "code",
   "execution_count": 42,
   "id": "0f3ed886-eb40-4c1f-a7a4-5dbdfaafc23f",
   "metadata": {},
   "outputs": [],
   "source": [
    "# df_multiindex.unstack()"
   ]
  },
  {
   "cell_type": "code",
   "execution_count": 43,
   "id": "066058a2-3b89-4a85-9c39-9435610d8a14",
   "metadata": {},
   "outputs": [],
   "source": [
    "df_index_no_detnum_pivoted_cache = df_index_no_detnum_pivoted.sample(frac=.8)"
   ]
  },
  {
   "cell_type": "code",
   "execution_count": 44,
   "id": "d788d774-c90a-4bdc-acca-d26c46f357b3",
   "metadata": {},
   "outputs": [
    {
     "name": "stdout",
     "output_type": "stream",
     "text": [
      "396 ms ± 1.05 ms per loop (mean ± std. dev. of 7 runs, 1 loop each)\n"
     ]
    }
   ],
   "source": [
    "%timeit df_index_no_detnum_pivoted.join(df_index_no_detnum_pivoted_cache, rsuffix=\"cached\")"
   ]
  },
  {
   "cell_type": "markdown",
   "id": "3416eec2-e5c4-4596-988e-938e77cd0ef3",
   "metadata": {},
   "source": [
    "We do not need to have all the duplicated columns, so we could get rid of them"
   ]
  },
  {
   "cell_type": "code",
   "execution_count": 45,
   "id": "c6669be1-987a-4384-b3a5-bd74b74c82b7",
   "metadata": {},
   "outputs": [],
   "source": [
    "df_index_no_detnum_pivoted = df_index_no_detnum[[\"qzpartOFi\", \"DetNum\"]].pivot(columns=\"DetNum\")"
   ]
  },
  {
   "cell_type": "code",
   "execution_count": 46,
   "id": "797dfe69-95d0-40ca-9e79-5642289c1a54",
   "metadata": {},
   "outputs": [],
   "source": [
    "df_index_no_detnum_pivoted_cache = df_index_no_detnum_pivoted.sample(frac=.8)"
   ]
  },
  {
   "cell_type": "code",
   "execution_count": 47,
   "id": "5a02b886-2e7b-4ba0-8dcf-adbdace9f8f4",
   "metadata": {},
   "outputs": [
    {
     "name": "stdout",
     "output_type": "stream",
     "text": [
      "145 ms ± 18.1 ms per loop (mean ± std. dev. of 7 runs, 10 loops each)\n"
     ]
    }
   ],
   "source": [
    "%timeit df_index_no_detnum_pivoted.join(df_index_no_detnum_pivoted_cache, rsuffix=\"cached\")"
   ]
  },
  {
   "cell_type": "code",
   "execution_count": 48,
   "id": "10494f0e-dd34-4cba-8101-b747c8691ca7",
   "metadata": {},
   "outputs": [
    {
     "name": "stdout",
     "output_type": "stream",
     "text": [
      "<class 'pandas.core.frame.DataFrame'>\n",
      "Int64Index: 600000 entries, 6057965471664640256 to 6058067520914521088\n",
      "Data columns (total 15 columns):\n",
      " #   Column           Non-Null Count   Dtype  \n",
      "---  ------           --------------   -----  \n",
      " 0   (qzpartOFi, 1)   137292 non-null  float64\n",
      " 1   (qzpartOFi, 2)   137292 non-null  float64\n",
      " 2   (qzpartOFi, 3)   137292 non-null  float64\n",
      " 3   (qzpartOFi, 4)   140452 non-null  float64\n",
      " 4   (qzpartOFi, 5)   140452 non-null  float64\n",
      " 5   (qzpartOFi, 6)   140452 non-null  float64\n",
      " 6   (qzpartOFi, 7)   185890 non-null  float64\n",
      " 7   (qzpartOFi, 8)   185890 non-null  float64\n",
      " 8   (qzpartOFi, 9)   185890 non-null  float64\n",
      " 9   (qzpartOFi, 10)  265663 non-null  float64\n",
      " 10  (qzpartOFi, 11)  265663 non-null  float64\n",
      " 11  (qzpartOFi, 12)  265663 non-null  float64\n",
      " 12  (qzpartOFi, 13)  303142 non-null  float64\n",
      " 13  (qzpartOFi, 14)  303142 non-null  float64\n",
      " 14  (qzpartOFi, 15)  303142 non-null  float64\n",
      "dtypes: float64(15)\n",
      "memory usage: 89.4 MB\n"
     ]
    }
   ],
   "source": [
    "df_index_no_detnum_pivoted.info()"
   ]
  },
  {
   "cell_type": "code",
   "execution_count": null,
   "id": "a8f0c8d7-f83e-4f55-8363-2eadc418ff19",
   "metadata": {},
   "outputs": [],
   "source": []
  }
 ],
 "metadata": {
  "kernelspec": {
   "display_name": "CDMS V04-08",
   "language": "python",
   "name": "cdms_v04-08"
  },
  "language_info": {
   "codemirror_mode": {
    "name": "ipython",
    "version": 3
   },
   "file_extension": ".py",
   "mimetype": "text/x-python",
   "name": "python",
   "nbconvert_exporter": "python",
   "pygments_lexer": "ipython3",
   "version": "3.7.6"
  },
  "toc-autonumbering": true,
  "toc-showcode": false,
  "toc-showmarkdowntxt": false
 },
 "nbformat": 4,
 "nbformat_minor": 5
}
